{
 "cells": [
  {
   "cell_type": "markdown",
   "metadata": {},
   "source": [
    "# American Samoa Rainfall Prediction with Custom Configuration\n",
    "\n",
    "This notebook demonstrates how to use the refactored rainfall prediction pipeline with custom configurations."
   ]
  },
  {
   "cell_type": "markdown",
   "metadata": {},
   "source": [
    "## 1. Setup\n",
    "\n",
    "First, we must import the necessary modules and set up our environment."
   ]
  },
  {
   "cell_type": "code",
   "execution_count": 1,
   "metadata": {},
   "outputs": [
    {
     "name": "stdout",
     "output_type": "stream",
     "text": [
      "Project root: /Users/jlee/Desktop/github/AS_rainfall\n"
     ]
    }
   ],
   "source": [
    "import os\n",
    "import sys\n",
    "import yaml\n",
    "import pandas as pd\n",
    "import numpy as np\n",
    "import matplotlib.pyplot as plt\n",
    "\n",
    "# Define project root\n",
    "PROJECT_ROOT = os.path.abspath(os.getcwd())\n",
    "print(f\"Project root: {PROJECT_ROOT}\")\n",
    "\n",
    "# Add scripts directory to Python path for imports\n",
    "sys.path.append(os.path.join(PROJECT_ROOT, '2_Create_ML_Data', 'scripts'))\n",
    "\n",
    "# Import the config utilities\n",
    "from utils.config_utils import load_config, merge_config_with_args"
   ]
  },
  {
   "cell_type": "markdown",
   "metadata": {},
   "source": [
    "## 2. Load Default Configuration\n",
    "\n",
    "Next, we load the default configuration from the YAML file."
   ]
  },
  {
   "cell_type": "code",
   "execution_count": 10,
   "metadata": {},
   "outputs": [
    {
     "name": "stdout",
     "output_type": "stream",
     "text": [
      "Default Configuration:\n",
      "  dem_path: /Users/jlee/Desktop/github/AS_rainfall/raw_data/DEM/DEM_Tut1.tif\n",
      "  climate_data_path: /Users/jlee/Desktop/github/AS_rainfall/2_Create_ML_Data/output/processed_climate_data.nc\n",
      "  raw_climate_dir: /Users/jlee/Desktop/github/AS_rainfall/raw_data/climate_variables\n",
      "  rainfall_dir: /Users/jlee/Desktop/github/AS_rainfall/1_Process_Rainfall_Data/output/monthly_rainfall\n",
      "  station_locations_path: /Users/jlee/Desktop/github/AS_rainfall/raw_data/AS_raingages/as_raingage_list2.csv\n",
      "  output_dir: /Users/jlee/Desktop/github/AS_rainfall/2_Create_ML_Data/output\n",
      "  grid_size: 5\n",
      "  patch_sizes: local=3, regional=3\n",
      "  km_per_cell: local=2, regional=8\n"
     ]
    }
   ],
   "source": [
    "# Load the default configuration\n",
    "default_config = load_config()\n",
    "\n",
    "# Display the configuration\n",
    "print(\"Default Configuration:\")\n",
    "for key, value in default_config.items():\n",
    "    if key not in ['patch_sizes', 'km_per_cell']:\n",
    "        print(f\"  {key}: {value}\")\n",
    "print(f\"  patch_sizes: local={default_config['patch_sizes']['local']}, regional={default_config['patch_sizes']['regional']}\")\n",
    "print(f\"  km_per_cell: local={default_config['km_per_cell']['local']}, regional={default_config['km_per_cell']['regional']}\")\n",
    "\n",
    "# Set default config path\n",
    "default_config_path = os.path.join(PROJECT_ROOT, '2_Create_ML_Data', 'config', 'config.yaml')"
   ]
  },
  {
   "cell_type": "markdown",
   "metadata": {},
   "source": [
    "## 3. Create a Custom Configuration\n",
    "\n",
    "Now, let's create a custom configuration by modifying some parameters."
   ]
  },
  {
   "cell_type": "code",
   "execution_count": 3,
   "metadata": {},
   "outputs": [
    {
     "name": "stdout",
     "output_type": "stream",
     "text": [
      "Custom configuration saved to /Users/jlee/Desktop/github/AS_rainfall/2_Create_ML_Data/config/custom_config.yaml\n"
     ]
    }
   ],
   "source": [
    "# Create a custom configuration file\n",
    "custom_config_path = os.path.join(PROJECT_ROOT, '2_Create_ML_Data', 'config', 'custom_config.yaml')\n",
    "\n",
    "# Define custom configuration\n",
    "custom_config = {\n",
    "    'paths': {\n",
    "        'dem': \"raw_data/DEM/DEM_Tut1.tif\",\n",
    "        'climate_data': \"2_Create_ML_Data/output/processed_climate_data.nc\",\n",
    "        'raw_climate': \"raw_data/climate_variables\",\n",
    "        'rainfall': \"1_Process_Rainfall_Data/output/monthly_rainfall\",\n",
    "        'stations': \"raw_data/AS_raingages/as_raingage_list2.csv\",\n",
    "        'output': \"2_Create_ML_Data/output/custom_run\"\n",
    "    },\n",
    "    'model': {\n",
    "        'grid_size': 7,  # Changed from 5 to 7\n",
    "        'patch_sizes': {\n",
    "            'local': 5,    # Changed from 3 to 5\n",
    "            'regional': 3\n",
    "        },\n",
    "        'km_per_cell': {\n",
    "            'local': 1.5,  # Changed from 2 to 1.5\n",
    "            'regional': 8\n",
    "        }\n",
    "    }\n",
    "}\n",
    "\n",
    "# Save the custom configuration to a YAML file\n",
    "os.makedirs(os.path.dirname(custom_config_path), exist_ok=True)\n",
    "with open(custom_config_path, 'w') as f:\n",
    "    yaml.dump(custom_config, f, default_flow_style=False)\n",
    "\n",
    "print(f\"Custom configuration saved to {custom_config_path}\")"
   ]
  },
  {
   "cell_type": "markdown",
   "metadata": {},
   "source": [
    "## 4. Load Custom Configuration\n",
    "\n",
    "Now, let's load our custom configuration."
   ]
  },
  {
   "cell_type": "code",
   "execution_count": 4,
   "metadata": {},
   "outputs": [
    {
     "name": "stdout",
     "output_type": "stream",
     "text": [
      "Custom Configuration:\n",
      "  dem_path: /Users/jlee/Desktop/github/AS_rainfall/raw_data/DEM/DEM_Tut1.tif\n",
      "  climate_data_path: /Users/jlee/Desktop/github/AS_rainfall/2_Create_ML_Data/output/processed_climate_data.nc\n",
      "  raw_climate_dir: /Users/jlee/Desktop/github/AS_rainfall/raw_data/climate_variables\n",
      "  rainfall_dir: /Users/jlee/Desktop/github/AS_rainfall/1_Process_Rainfall_Data/output/monthly_rainfall\n",
      "  station_locations_path: /Users/jlee/Desktop/github/AS_rainfall/raw_data/AS_raingages/as_raingage_list2.csv\n",
      "  output_dir: /Users/jlee/Desktop/github/AS_rainfall/2_Create_ML_Data/output/custom_run\n",
      "  grid_size: 7\n",
      "  patch_sizes: local=5, regional=3\n",
      "  km_per_cell: local=1.5, regional=8\n"
     ]
    }
   ],
   "source": [
    "# Load the custom configuration\n",
    "custom_config_loaded = load_config(custom_config_path)\n",
    "\n",
    "# Display the custom configuration\n",
    "print(\"Custom Configuration:\")\n",
    "for key, value in custom_config_loaded.items():\n",
    "    if key not in ['patch_sizes', 'km_per_cell']:\n",
    "        print(f\"  {key}: {value}\")\n",
    "print(f\"  patch_sizes: local={custom_config_loaded['patch_sizes']['local']}, regional={custom_config_loaded['patch_sizes']['regional']}\")\n",
    "print(f\"  km_per_cell: local={custom_config_loaded['km_per_cell']['local']}, regional={custom_config_loaded['km_per_cell']['regional']}\")"
   ]
  },
  {
   "cell_type": "markdown",
   "metadata": {},
   "source": [
    "## 5. Running the Full Pipeline with Custom Configuration\n",
    "\n",
    "To run the full pipeline with a custom configuration, you can use the following approaches:\n",
    "\n",
    "### Run from the notebook with subprocess\n",
    "\n",
    "This approach runs the pipeline script as a subprocess"
   ]
  },
  {
   "cell_type": "code",
   "execution_count": 12,
   "metadata": {},
   "outputs": [
    {
     "name": "stdout",
     "output_type": "stream",
     "text": [
      "Found 11 raw climate data files in /Users/jlee/Desktop/github/AS_rainfall/raw_data/climate_variables\n",
      "Found existing processed climate data at: /Users/jlee/Desktop/github/AS_rainfall/2_Create_ML_Data/output/processed_climate_data.nc\n",
      "\n"
     ]
    }
   ],
   "source": [
    "import subprocess\n",
    "\n",
    "def run_command(cmd):\n",
    "    process = subprocess.Popen(cmd, stdout=subprocess.PIPE, stderr=subprocess.PIPE, shell=True)\n",
    "    stdout, stderr = process.communicate()\n",
    "    return stdout.decode('utf-8') + stderr.decode('utf-8')\n",
    "\n",
    "# Set up default configuration\n",
    "pipeline_script = os.path.join(PROJECT_ROOT, '2_Create_ML_Data', 'scripts', 'rainfall_prediction_pipeline.py')\n",
    "cmd = f\"python3 {pipeline_script} --config {default_config_path} --output-dir {PROJECT_ROOT}/2_Create_ML_Data/output/\"\n",
    "\n",
    "# Run the pipeline\n",
    "output = run_command(cmd)\n",
    "print(output)"
   ]
  },
  {
   "cell_type": "code",
   "execution_count": 8,
   "metadata": {},
   "outputs": [
    {
     "name": "stdout",
     "output_type": "stream",
     "text": [
      "Found 11 raw climate data files in /Users/jlee/Desktop/github/AS_rainfall/raw_data/climate_variables\n",
      "Found existing processed climate data at: /Users/jlee/Desktop/github/AS_rainfall/2_Create_ML_Data/output/processed_climate_data.nc\n",
      "\n"
     ]
    }
   ],
   "source": [
    "# Run the pipeline with custom configuration\n",
    "pipeline_script = os.path.join(PROJECT_ROOT, '2_Create_ML_Data', 'scripts', 'rainfall_prediction_pipeline.py')\n",
    "cmd = f\"python3 {pipeline_script} --config {custom_config_path} --output-dir {PROJECT_ROOT}/2_Create_ML_Data/output/notebook_run\"\n",
    "\n",
    "output = run_command(cmd)\n",
    "print(output)"
   ]
  },
  {
   "cell_type": "code",
   "execution_count": 23,
   "metadata": {},
   "outputs": [
    {
     "name": "stdout",
     "output_type": "stream",
     "text": [
      "Running pipeline: python3 /Users/jlee/Desktop/github/AS_rainfall/2_Create_ML_Data/scripts/rainfall_prediction_pipeline.py --config /Users/jlee/Desktop/github/AS_rainfall/2_Create_ML_Data/config/config.yaml --output-dir /Users/jlee/Desktop/github/AS_rainfall/2_Create_ML_Data/output\n"
     ]
    },
    {
     "data": {
      "application/vnd.jupyter.widget-view+json": {
       "model_id": "838f196d57724733a22e147632808823",
       "version_major": 2,
       "version_minor": 0
      },
      "text/plain": [
       "Pipeline Progress:   0%|          | 0/6 [00:00<?, ?it/s]"
      ]
     },
     "metadata": {},
     "output_type": "display_data"
    },
    {
     "name": "stdout",
     "output_type": "stream",
     "text": [
      "2025-05-27 14:33:53 - PROGRESS: 1/6 - Setting up environment\n",
      "2025-05-27 14:33:53 - PROGRESS: 2/6 - Processing DEM data\n",
      "2025-05-27 14:33:53 - CPLE_AppDefined in PROJ: internal_proj_create_from_database: Cannot find proj.db\n",
      "2025-05-27 14:33:54 - PROGRESS: 3/6 - Processing climate data\n",
      "2025-05-27 14:33:54 - PROGRESS: 4/6 - Processing rainfall data\n",
      "2025-05-27 14:34:04 - PROGRESS: 5/6 - Generating training data\n",
      "2025-05-27 14:34:11 - PROGRESS: 6/6 - Converting H5 data to CSV format\n",
      "Found 11 raw climate data files in /Users/jlee/Desktop/github/AS_rainfall/raw_data/climate_variables\n",
      "Found existing processed climate data at: /Users/jlee/Desktop/github/AS_rainfall/2_Create_ML_Data/output/processed_climate_data.nc\n",
      "\n",
      "Pipeline completed successfully!\n",
      "\n",
      "Progress Summary:\n",
      "PROGRESS: 1/6 - Setting up environment\n",
      "PROGRESS: 2/6 - Processing DEM data\n",
      "PROGRESS: 3/6 - Processing climate data\n",
      "PROGRESS: 4/6 - Processing rainfall data\n",
      "PROGRESS: 5/6 - Generating training data\n",
      "PROGRESS: 6/6 - Converting H5 data to CSV format\n",
      "\n",
      "Running pipeline: python3 /Users/jlee/Desktop/github/AS_rainfall/2_Create_ML_Data/scripts/rainfall_prediction_pipeline.py --config /Users/jlee/Desktop/github/AS_rainfall/2_Create_ML_Data/config/custom_config.yaml --output-dir /Users/jlee/Desktop/github/AS_rainfall/2_Create_ML_Data/output/custom_notebook_run\n"
     ]
    },
    {
     "data": {
      "application/vnd.jupyter.widget-view+json": {
       "model_id": "51530c27c7bd492f83128e9313bacb5a",
       "version_major": 2,
       "version_minor": 0
      },
      "text/plain": [
       "Pipeline Progress:   0%|          | 0/6 [00:00<?, ?it/s]"
      ]
     },
     "metadata": {},
     "output_type": "display_data"
    },
    {
     "name": "stdout",
     "output_type": "stream",
     "text": [
      "2025-05-27 14:34:14 - PROGRESS: 1/6 - Setting up environment\n",
      "2025-05-27 14:34:14 - PROGRESS: 2/6 - Processing DEM data\n",
      "2025-05-27 14:34:14 - CPLE_AppDefined in PROJ: internal_proj_create_from_database: Cannot find proj.db\n",
      "2025-05-27 14:34:15 - PROGRESS: 3/6 - Processing climate data\n",
      "2025-05-27 14:34:15 - PROGRESS: 4/6 - Processing rainfall data\n",
      "2025-05-27 14:34:25 - PROGRESS: 5/6 - Generating training data\n",
      "2025-05-27 14:34:31 - PROGRESS: 6/6 - Converting H5 data to CSV format\n",
      "Found 11 raw climate data files in /Users/jlee/Desktop/github/AS_rainfall/raw_data/climate_variables\n",
      "Found existing processed climate data at: /Users/jlee/Desktop/github/AS_rainfall/2_Create_ML_Data/output/processed_climate_data.nc\n",
      "\n",
      "Pipeline completed successfully!\n",
      "\n",
      "Progress Summary:\n",
      "PROGRESS: 1/6 - Setting up environment\n",
      "PROGRESS: 2/6 - Processing DEM data\n",
      "PROGRESS: 3/6 - Processing climate data\n",
      "PROGRESS: 4/6 - Processing rainfall data\n",
      "PROGRESS: 5/6 - Generating training data\n",
      "PROGRESS: 6/6 - Converting H5 data to CSV format\n",
      "\n",
      "\n",
      "Total execution time: 21.67 seconds\n",
      "\n",
      "Time per step:\n",
      "  Step 2: 1.01 seconds\n",
      "  Step 4: 10.57 seconds\n",
      "  Step 5: 6.05 seconds\n"
     ]
    }
   ],
   "source": [
    "# Import the progress tracking utility\n",
    "import sys\n",
    "import os\n",
    "from utils.progress_utils import run_pipeline_with_progress, display_pipeline_timing\n",
    "\n",
    "# Run with custom configuration\n",
    "print(\"Running pipeline with custom configuration...\")\n",
    "custom_config_path = os.path.join(PROJECT_ROOT, '2_Create_ML_Data', 'config', 'custom_config.yaml')\n",
    "custom_result = run_pipeline_with_progress(\n",
    "    project_root=PROJECT_ROOT,\n",
    "    config_path=custom_config_path,\n",
    "    output_dir=os.path.join(PROJECT_ROOT, '2_Create_ML_Data', 'output', 'custom_notebook_run')\n",
    ")\n",
    "\n",
    "# Display timing information\n",
    "if custom_result[\"success\"]:\n",
    "    display_pipeline_timing(custom_result)"
   ]
  },
  {
   "cell_type": "code",
   "execution_count": null,
   "metadata": {},
   "outputs": [],
   "source": []
  }
 ],
 "metadata": {
  "kernelspec": {
   "display_name": "Python 3 (ipykernel)",
   "language": "python",
   "name": "python3"
  },
  "language_info": {
   "codemirror_mode": {
    "name": "ipython",
    "version": 3
   },
   "file_extension": ".py",
   "mimetype": "text/x-python",
   "name": "python",
   "nbconvert_exporter": "python",
   "pygments_lexer": "ipython3",
   "version": "3.12.0"
  }
 },
 "nbformat": 4,
 "nbformat_minor": 4
}
