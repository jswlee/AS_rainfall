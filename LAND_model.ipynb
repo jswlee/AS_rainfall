{
 "cells": [
  {
   "cell_type": "code",
   "execution_count": 1,
   "id": "cae20214",
   "metadata": {},
   "outputs": [],
   "source": [
    "# %pip install torch"
   ]
  },
  {
   "cell_type": "code",
   "execution_count": 2,
   "id": "d7c44bdf",
   "metadata": {},
   "outputs": [
    {
     "name": "stderr",
     "output_type": "stream",
     "text": [
      "/Users/marusuke/anaconda3/lib/python3.11/site-packages/torch/utils/_pytree.py:185: FutureWarning: optree is installed but the version is too old to support PyTorch Dynamo in C++ pytree. C++ pytree support is disabled. Please consider upgrading optree using `python3 -m pip install --upgrade 'optree>=0.13.0'`.\n",
      "  warnings.warn(\n"
     ]
    }
   ],
   "source": [
    "import torch\n",
    "import torch.nn as nn\n",
    "import torch.nn.functional as F\n",
    "import matplotlib.pyplot as plt"
   ]
  },
  {
   "cell_type": "code",
   "execution_count": 3,
   "id": "61f83957",
   "metadata": {},
   "outputs": [],
   "source": [
    "class LANDModel(nn.Module):\n",
    "    def __init__(self, Na=512, Nb=1024, dropout_rate=0.45):\n",
    "        super(LANDModel, self).__init__()\n",
    "\n",
    "        # Local DEM branch\n",
    "        self.dem_local = nn.Sequential(\n",
    "            nn.Linear(25, 128),\n",
    "            nn.ReLU()\n",
    "        )\n",
    "\n",
    "        # Regional DEM branch\n",
    "        self.dem_regional = nn.Sequential(\n",
    "            nn.Linear(25, 128),\n",
    "            nn.ReLU()\n",
    "        )\n",
    "\n",
    "        # Conv2D（channel-wise: groups=16）\n",
    "        self.reanalysis_conv = nn.Sequential(\n",
    "            nn.Conv2d(in_channels=16, out_channels=16, kernel_size=3, groups=16),  # shape: (batch, 16, 1, 1)\n",
    "            nn.ReLU()\n",
    "        )\n",
    "\n",
    "        # Month one-hot (12D)\n",
    "        self.month_dense = nn.Linear(12, 128)\n",
    "\n",
    "        # Dense layers\n",
    "        self.fc1 = nn.Sequential(\n",
    "            nn.Linear(128 + 128 + 12 + 16, Nb), # 128 + 128 + 12 + 16\n",
    "            nn.BatchNorm1d(Nb),\n",
    "            nn.ReLU(),\n",
    "            nn.Dropout(dropout_rate)\n",
    "        )\n",
    "        self.fc2 = nn.Sequential(\n",
    "            nn.Linear(Nb, Nb),\n",
    "            nn.BatchNorm1d(Nb),\n",
    "            nn.ReLU()\n",
    "        )\n",
    "        self.output = nn.Sequential(\n",
    "            nn.Linear(Nb, 1),\n",
    "            nn.ReLU()   # Assuming the output is non-negative\n",
    "        )\n",
    "\n",
    "    def forward(self, local_dem, regional_dem, month_onehot, reanalysis_input):\n",
    "        \"\"\"\n",
    "        Inputs:\n",
    "        - local_dem: (batch, 25)\n",
    "        - regional_dem: (batch, 25)\n",
    "        - month_onehot: (batch, 12)\n",
    "        - reanalysis_input: (batch, 16, 3, 3)\n",
    "        \"\"\"\n",
    "\n",
    "        # DEM branches\n",
    "        local_feat = self.dem_local(local_dem)       # (batch, 128)\n",
    "        regional_feat = self.dem_regional(regional_dem)  # (batch, 128)\n",
    "\n",
    "        # Conv2D on reanalysis\n",
    "        x_reanalysis = self.reanalysis_conv(reanalysis_input)  # (batch, 16, 1, 1)\n",
    "        x_reanalysis = x_reanalysis.view(x_reanalysis.size(0), -1)  # Flatten → (batch, 16)\n",
    "\n",
    "        # Concatenate all inputs\n",
    "        x = torch.cat([local_feat, regional_feat, month_onehot, x_reanalysis], dim=1)  # (batch, 384)\n",
    "\n",
    "        # Fully connected\n",
    "        x = self.fc1(x)\n",
    "        x = self.fc2(x)\n",
    "        out = self.output(x)\n",
    "\n",
    "        return out"
   ]
  },
  {
   "cell_type": "code",
   "execution_count": 4,
   "id": "99b5aa11",
   "metadata": {},
   "outputs": [],
   "source": [
    "# Model testing and evaluation\n",
    "# batch_size = 4\n",
    "# local_dem = torch.randn(batch_size, 25)\n",
    "# regional_dem = torch.randn(batch_size, 25)\n",
    "# month_onehot = torch.zeros(batch_size, 12)\n",
    "# month_onehot[:, 3] = 1  # Assuming April (index 3) is the month of interest\n",
    "\n",
    "# reanalysis_input = torch.randn(batch_size, 16, 3, 3)\n",
    "\n",
    "# Use model\n",
    "# model = LANDModel()\n",
    "# output = model(local_dem, regional_dem, month_onehot, reanalysis_input)\n",
    "# print(output.shape)  # torch.Size([4, 1])\n"
   ]
  },
  {
   "cell_type": "code",
   "execution_count": null,
   "id": "97c414ec",
   "metadata": {},
   "outputs": [],
   "source": []
  }
 ],
 "metadata": {
  "kernelspec": {
   "display_name": "base",
   "language": "python",
   "name": "python3"
  },
  "language_info": {
   "codemirror_mode": {
    "name": "ipython",
    "version": 3
   },
   "file_extension": ".py",
   "mimetype": "text/x-python",
   "name": "python",
   "nbconvert_exporter": "python",
   "pygments_lexer": "ipython3",
   "version": "3.11.9"
  }
 },
 "nbformat": 4,
 "nbformat_minor": 5
}
