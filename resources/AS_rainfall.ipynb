{
 "cells": [
  {
   "cell_type": "code",
   "execution_count": null,
   "metadata": {},
   "outputs": [],
   "source": [
    "import pandas as pd\n",
    "import os\n",
    "from pathlib import Path\n",
    "\n",
    "def process_rainfall_directory(input_dir, output_dir=\"mon_rainfall\"):\n",
    "    input_path = Path(input_dir)\n",
    "    output_path = Path(output_dir)\n",
    "    output_path.mkdir(exist_ok=True)\n",
    "\n",
    "    for file in input_path.glob(\"*.csv\"):\n",
    "        try:\n",
    "            df = pd.read_csv(file)\n",
    "            df['datetime'] = pd.to_datetime(df['datetime'], errors='coerce')\n",
    "            df['year_month'] = df['datetime'].dt.to_period('M')\n",
    "            grouped = df.groupby('year_month')\n",
    "\n",
    "            def sum_or_nan(series):\n",
    "                return pd.NA if series.isna().any() else series.sum()\n",
    "\n",
    "            # Apply only to the 'precip_in' column to avoid deprecation warning\n",
    "            monthly_precip = grouped['precip_in'].apply(sum_or_nan).reset_index(name='monthly_total_precip_in')\n",
    "\n",
    "            output_file = output_path / f\"{file.stem}_monthly.csv\"\n",
    "            monthly_precip.to_csv(output_file, index=False)\n",
    "            print(f\"Processed: {file.name} -> {output_file.name}\")\n",
    "\n",
    "        except Exception as e:\n",
    "            print(f\"Error processing {file.name}: {e}\")"
   ]
  },
  {
   "cell_type": "code",
   "execution_count": 3,
   "metadata": {},
   "outputs": [
    {
     "name": "stdout",
     "output_type": "stream",
     "text": [
      "Processed: satala.csv -> satala_monthly.csv\n",
      "Processed: airport5101.csv -> airport5101_monthly.csv\n",
      "Processed: pioa_afono.csv -> pioa_afono_monthly.csv\n",
      "Processed: aua.csv -> aua_monthly.csv\n",
      "Processed: siufaga_WRCC.csv -> siufaga_WRCC_monthly.csv\n",
      "Processed: airport80.csv -> airport80_monthly.csv\n",
      "Processed: vaipito_res.csv -> vaipito_res_monthly.csv\n",
      "Processed: aasufou80.csv -> aasufou80_monthly.csv\n",
      "Processed: maloata.csv -> maloata_monthly.csv\n",
      "Processed: toa_ridge_WRCC.csv -> toa_ridge_WRCC_monthly.csv\n",
      "Processed: aasufou90.csv -> aasufou90_monthly.csv\n",
      "Processed: vaipito2000.csv -> vaipito2000_monthly.csv\n",
      "Processed: malaeimi.csv -> malaeimi_monthly.csv\n",
      "Processed: masefau.csv -> masefau_monthly.csv\n",
      "Processed: fagaitua.csv -> fagaitua_monthly.csv\n",
      "Processed: malaeimi_1691.csv -> malaeimi_1691_monthly.csv\n",
      "Processed: iliili.csv -> iliili_monthly.csv\n",
      "Processed: aoloafou.csv -> aoloafou_monthly.csv\n",
      "Processed: mt_alava.csv -> mt_alava_monthly.csv\n",
      "Processed: matatula.csv -> matatula_monthly.csv\n",
      "Processed: aunuu.csv -> aunuu_monthly.csv\n"
     ]
    }
   ],
   "source": [
    "process_rainfall_directory(\"data/AS_RF_USGS_WRCC\")"
   ]
  }
 ],
 "metadata": {
  "kernelspec": {
   "display_name": ".venv",
   "language": "python",
   "name": "python3"
  },
  "language_info": {
   "codemirror_mode": {
    "name": "ipython",
    "version": 3
   },
   "file_extension": ".py",
   "mimetype": "text/x-python",
   "name": "python",
   "nbconvert_exporter": "python",
   "pygments_lexer": "ipython3",
   "version": "3.11.9"
  }
 },
 "nbformat": 4,
 "nbformat_minor": 2
}
